{
 "cells": [
  {
   "cell_type": "markdown",
   "id": "be1437b1-aed5-44ee-b511-92fa0274f408",
   "metadata": {
    "tags": []
   },
   "source": [
    "# Decision Tree VAL"
   ]
  },
  {
   "cell_type": "code",
   "execution_count": null,
   "id": "e2a9ecec-df55-4c64-bfdd-ecbfe18eb07e",
   "metadata": {
    "tags": []
   },
   "outputs": [],
   "source": [
    "import numpy as np\n",
    "import pandas as pd\n",
    "import seaborn as sns\n",
    "import matplotlib.pyplot as plt"
   ]
  },
  {
   "cell_type": "code",
   "execution_count": null,
   "id": "d1c1129d-42f5-40d7-aecb-95e28b004412",
   "metadata": {
    "tags": []
   },
   "outputs": [
    {
     "data": {
      "text/html": [
       "<div>\n",
       "<style scoped>\n",
       "    .dataframe tbody tr th:only-of-type {\n",
       "        vertical-align: middle;\n",
       "    }\n",
       "\n",
       "    .dataframe tbody tr th {\n",
       "        vertical-align: top;\n",
       "    }\n",
       "\n",
       "    .dataframe thead th {\n",
       "        text-align: right;\n",
       "    }\n",
       "</style>\n",
       "<table border=\"1\" class=\"dataframe\">\n",
       "  <thead>\n",
       "    <tr style=\"text-align: right;\">\n",
       "      <th></th>\n",
       "      <th>name</th>\n",
       "      <th>duration_ms</th>\n",
       "      <th>explicit</th>\n",
       "      <th>popularity</th>\n",
       "      <th>artists</th>\n",
       "      <th>album_name</th>\n",
       "      <th>danceability</th>\n",
       "      <th>energy</th>\n",
       "      <th>key</th>\n",
       "      <th>loudness</th>\n",
       "      <th>speechiness</th>\n",
       "      <th>acousticness</th>\n",
       "      <th>instrumentalness</th>\n",
       "      <th>liveness</th>\n",
       "      <th>valence</th>\n",
       "      <th>tempo</th>\n",
       "      <th>time_signature</th>\n",
       "      <th>genre</th>\n",
       "    </tr>\n",
       "  </thead>\n",
       "  <tbody>\n",
       "    <tr>\n",
       "      <th>0</th>\n",
       "      <td>Long Road</td>\n",
       "      <td>241760</td>\n",
       "      <td>False</td>\n",
       "      <td>46</td>\n",
       "      <td>Funki Porcini</td>\n",
       "      <td>Hed Phone Sex</td>\n",
       "      <td>0.690</td>\n",
       "      <td>0.513</td>\n",
       "      <td>5</td>\n",
       "      <td>-12.529</td>\n",
       "      <td>0.0975</td>\n",
       "      <td>0.302000</td>\n",
       "      <td>0.53600</td>\n",
       "      <td>0.281</td>\n",
       "      <td>0.6350</td>\n",
       "      <td>142.221</td>\n",
       "      <td>4.0</td>\n",
       "      <td>j-dance</td>\n",
       "    </tr>\n",
       "    <tr>\n",
       "      <th>1</th>\n",
       "      <td>Daniâl My Son, Where Did You Vanish?</td>\n",
       "      <td>444000</td>\n",
       "      <td>False</td>\n",
       "      <td>0</td>\n",
       "      <td>Siavash Amini</td>\n",
       "      <td>A Trail of Laughters</td>\n",
       "      <td>0.069</td>\n",
       "      <td>0.196</td>\n",
       "      <td>1</td>\n",
       "      <td>-24.801</td>\n",
       "      <td>0.0805</td>\n",
       "      <td>0.283000</td>\n",
       "      <td>0.93400</td>\n",
       "      <td>0.360</td>\n",
       "      <td>0.0336</td>\n",
       "      <td>75.596</td>\n",
       "      <td>4.0</td>\n",
       "      <td>iranian</td>\n",
       "    </tr>\n",
       "    <tr>\n",
       "      <th>2</th>\n",
       "      <td>Ondskapens Galakse</td>\n",
       "      <td>333506</td>\n",
       "      <td>False</td>\n",
       "      <td>3</td>\n",
       "      <td>Kvelertak</td>\n",
       "      <td>Nattesferd</td>\n",
       "      <td>0.363</td>\n",
       "      <td>0.854</td>\n",
       "      <td>2</td>\n",
       "      <td>-7.445</td>\n",
       "      <td>0.0397</td>\n",
       "      <td>0.000089</td>\n",
       "      <td>0.80000</td>\n",
       "      <td>0.262</td>\n",
       "      <td>0.4890</td>\n",
       "      <td>116.628</td>\n",
       "      <td>4.0</td>\n",
       "      <td>black-metal</td>\n",
       "    </tr>\n",
       "    <tr>\n",
       "      <th>3</th>\n",
       "      <td>Can't Look Away</td>\n",
       "      <td>269800</td>\n",
       "      <td>False</td>\n",
       "      <td>23</td>\n",
       "      <td>The Wood Brothers</td>\n",
       "      <td>One Drop of Truth</td>\n",
       "      <td>0.523</td>\n",
       "      <td>0.585</td>\n",
       "      <td>5</td>\n",
       "      <td>-5.607</td>\n",
       "      <td>0.0765</td>\n",
       "      <td>0.066400</td>\n",
       "      <td>0.00127</td>\n",
       "      <td>0.117</td>\n",
       "      <td>0.3850</td>\n",
       "      <td>140.880</td>\n",
       "      <td>4.0</td>\n",
       "      <td>bluegrass</td>\n",
       "    </tr>\n",
       "    <tr>\n",
       "      <th>4</th>\n",
       "      <td>Thunderground</td>\n",
       "      <td>307651</td>\n",
       "      <td>False</td>\n",
       "      <td>25</td>\n",
       "      <td>The Darkraver;DJ Vince</td>\n",
       "      <td>Happy Hardcore Top 100</td>\n",
       "      <td>0.643</td>\n",
       "      <td>0.687</td>\n",
       "      <td>7</td>\n",
       "      <td>-11.340</td>\n",
       "      <td>0.0539</td>\n",
       "      <td>0.000576</td>\n",
       "      <td>0.09690</td>\n",
       "      <td>0.299</td>\n",
       "      <td>0.6370</td>\n",
       "      <td>143.956</td>\n",
       "      <td>4.0</td>\n",
       "      <td>happy</td>\n",
       "    </tr>\n",
       "  </tbody>\n",
       "</table>\n",
       "</div>"
      ],
      "text/plain": [
       "                                   name  duration_ms  explicit  popularity  \\\n",
       "0                             Long Road       241760     False          46   \n",
       "1  Daniâl My Son, Where Did You Vanish?       444000     False           0   \n",
       "2                    Ondskapens Galakse       333506     False           3   \n",
       "3                       Can't Look Away       269800     False          23   \n",
       "4                         Thunderground       307651     False          25   \n",
       "\n",
       "                  artists              album_name  danceability  energy  key  \\\n",
       "0           Funki Porcini           Hed Phone Sex         0.690   0.513    5   \n",
       "1           Siavash Amini    A Trail of Laughters         0.069   0.196    1   \n",
       "2               Kvelertak              Nattesferd         0.363   0.854    2   \n",
       "3       The Wood Brothers       One Drop of Truth         0.523   0.585    5   \n",
       "4  The Darkraver;DJ Vince  Happy Hardcore Top 100         0.643   0.687    7   \n",
       "\n",
       "   loudness  speechiness  acousticness  instrumentalness  liveness  valence  \\\n",
       "0   -12.529       0.0975      0.302000           0.53600     0.281   0.6350   \n",
       "1   -24.801       0.0805      0.283000           0.93400     0.360   0.0336   \n",
       "2    -7.445       0.0397      0.000089           0.80000     0.262   0.4890   \n",
       "3    -5.607       0.0765      0.066400           0.00127     0.117   0.3850   \n",
       "4   -11.340       0.0539      0.000576           0.09690     0.299   0.6370   \n",
       "\n",
       "     tempo  time_signature        genre  \n",
       "0  142.221             4.0      j-dance  \n",
       "1   75.596             4.0      iranian  \n",
       "2  116.628             4.0  black-metal  \n",
       "3  140.880             4.0    bluegrass  \n",
       "4  143.956             4.0        happy  "
      ]
     },
     "execution_count": 3,
     "metadata": {},
     "output_type": "execute_result"
    }
   ],
   "source": [
    "df = pd.read_csv(\"train_cleaned.csv\")\n",
    "df.head()"
   ]
  },
  {
   "cell_type": "code",
   "execution_count": null,
   "id": "3d9c8f71-61cb-451e-a9f8-a25de677fa01",
   "metadata": {
    "tags": []
   },
   "outputs": [
    {
     "data": {
      "text/plain": [
       "(array([ 0,  1,  2,  3,  4,  5,  6,  7,  8,  9, 10, 11, 12, 13, 14, 15, 16,\n",
       "        17, 18, 19, 20, 21, 22, 23, 24, 25, 26, 27, 28, 29, 30, 31, 32, 33,\n",
       "        34, 35, 36, 37, 38, 39, 40, 41, 42, 43, 44, 45, 46, 47, 48, 49, 50,\n",
       "        51, 52, 53, 54, 55, 56, 57, 58, 59, 60, 61, 62, 63, 64, 65, 66, 67,\n",
       "        68, 69, 70, 71, 72, 73, 74, 75, 76, 77, 78, 79, 80, 81, 82, 83, 84,\n",
       "        85, 88, 94], dtype=int64),\n",
       " array([1475,  214,  144,  108,  107,  133,  186,  134,  162,  175,  214,\n",
       "         211,  193,  202,  227,  216,  286,  356,  368,  412,  395,  427,\n",
       "         398,  415,  358,  338,  286,  232,  231,  242,  227,  222,  205,\n",
       "         180,  183,  198,  169,  195,  144,  153,  178,  202,  194,  213,\n",
       "         236,  224,  222,  238,  201,  206,  187,  171,  181,  137,  149,\n",
       "         134,  118,  138,  113,  103,   78,   91,   82,   73,   64,   44,\n",
       "          40,   36,   22,   34,   23,   14,   24,   17,   11,    9,   12,\n",
       "           8,   12,    9,    9,    9,    2,    4,    2,    2,    2,    1],\n",
       "       dtype=int64))"
      ]
     },
     "execution_count": 4,
     "metadata": {},
     "output_type": "execute_result"
    }
   ],
   "source": [
    "np.unique(df['popularity'], return_counts = True)"
   ]
  },
  {
   "cell_type": "code",
   "execution_count": null,
   "id": "45011a3c-8f36-4cf4-8324-2be409d81ffd",
   "metadata": {
    "tags": []
   },
   "outputs": [
    {
     "data": {
      "text/plain": [
       "(array([ 0,  1,  2,  3,  4,  5,  6,  7,  8,  9, 10, 11], dtype=int64),\n",
       " array([1741, 1568, 1481,  427, 1081, 1209, 1089, 1800,  905, 1431, 1063,\n",
       "        1205], dtype=int64))"
      ]
     },
     "execution_count": 5,
     "metadata": {},
     "output_type": "execute_result"
    }
   ],
   "source": [
    "np.unique(df['key'], return_counts = True)"
   ]
  },
  {
   "cell_type": "code",
   "execution_count": null,
   "id": "0f022ee5-7edf-47e5-a7a7-967bb35f1a65",
   "metadata": {
    "tags": []
   },
   "outputs": [
    {
     "data": {
      "text/plain": [
       "(array([0.00e+00, 1.00e-06, 1.03e-06, ..., 9.98e-01, 9.99e-01, 1.00e+00]),\n",
       " array([3798,    4,    3, ...,    5,   15,   11], dtype=int64))"
      ]
     },
     "execution_count": 6,
     "metadata": {},
     "output_type": "execute_result"
    }
   ],
   "source": [
    "np.unique(df['instrumentalness'], return_counts = True)"
   ]
  },
  {
   "cell_type": "markdown",
   "id": "c83e4053-8c80-44fb-94f8-6335566408d8",
   "metadata": {
    "tags": []
   },
   "source": [
    "### Partitioning"
   ]
  },
  {
   "cell_type": "code",
   "execution_count": null,
   "id": "13603085-9003-48f1-88c7-78b26629f5d0",
   "metadata": {},
   "outputs": [],
   "source": [
    "from sklearn.model_selection import train_test_split"
   ]
  },
  {
   "cell_type": "code",
   "execution_count": null,
   "id": "377c0839-afab-48be-9409-7d3d7ec81a68",
   "metadata": {
    "tags": []
   },
   "outputs": [],
   "source": [
    "df = df.replace({\"explicit\": {False:0, True:1}})"
   ]
  },
  {
   "cell_type": "code",
   "execution_count": null,
   "id": "85692dcd-8c9b-45bf-bf89-83e5c814cb0e",
   "metadata": {},
   "outputs": [],
   "source": [
    "attributes = ['danceability', 'tempo', 'energy','loudness','acousticness','speechiness','instrumentalness','liveness','valence','key']"
   ]
  },
  {
   "cell_type": "code",
   "execution_count": null,
   "id": "a145d49b-04a7-4009-978d-1f50208d1749",
   "metadata": {
    "tags": []
   },
   "outputs": [
    {
     "data": {
      "text/plain": [
       "['danceability',\n",
       " 'tempo',\n",
       " 'energy',\n",
       " 'loudness',\n",
       " 'acousticness',\n",
       " 'speechiness',\n",
       " 'instrumentalness',\n",
       " 'liveness',\n",
       " 'valence',\n",
       " 'key']"
      ]
     },
     "execution_count": 10,
     "metadata": {},
     "output_type": "execute_result"
    }
   ],
   "source": [
    "attributes"
   ]
  },
  {
   "cell_type": "code",
   "execution_count": null,
   "id": "be3d0d9b-ca9f-498f-b417-4e4af9a7ad8a",
   "metadata": {},
   "outputs": [],
   "source": [
    "X = df[attributes].values\n",
    "y = df[\"genre\"]"
   ]
  },
  {
   "cell_type": "code",
   "execution_count": null,
   "id": "69e2d3df-49a4-4a38-bb02-1a131be29dbb",
   "metadata": {},
   "outputs": [],
   "source": [
    "X_train, X_test, y_train, y_test = train_test_split(X, y, test_size=0.3, random_state=1, stratify=y)"
   ]
  },
  {
   "cell_type": "markdown",
   "id": "44169045-1afb-4806-bf9b-718132cccd91",
   "metadata": {
    "tags": []
   },
   "source": [
    "### Decision Tree"
   ]
  },
  {
   "cell_type": "code",
   "execution_count": null,
   "id": "fce770b1-694f-4c7b-af05-b014ce693f88",
   "metadata": {},
   "outputs": [],
   "source": [
    "from sklearn.tree import DecisionTreeClassifier, plot_tree"
   ]
  },
  {
   "cell_type": "code",
   "execution_count": null,
   "id": "de703d61-a92f-4cdc-a812-ec2232232bba",
   "metadata": {
    "tags": []
   },
   "outputs": [],
   "source": [
    "dt = DecisionTreeClassifier()"
   ]
  },
  {
   "cell_type": "code",
   "execution_count": null,
   "id": "fa7ac844-fc6d-47d2-a0c7-69dc6ad1b860",
   "metadata": {},
   "outputs": [
    {
     "name": "stdout",
     "output_type": "stream",
     "text": [
      "CPU times: total: 62.5 ms\n",
      "Wall time: 268 ms\n"
     ]
    },
    {
     "data": {
      "text/html": [
       "<style>#sk-container-id-1 {color: black;}#sk-container-id-1 pre{padding: 0;}#sk-container-id-1 div.sk-toggleable {background-color: white;}#sk-container-id-1 label.sk-toggleable__label {cursor: pointer;display: block;width: 100%;margin-bottom: 0;padding: 0.3em;box-sizing: border-box;text-align: center;}#sk-container-id-1 label.sk-toggleable__label-arrow:before {content: \"▸\";float: left;margin-right: 0.25em;color: #696969;}#sk-container-id-1 label.sk-toggleable__label-arrow:hover:before {color: black;}#sk-container-id-1 div.sk-estimator:hover label.sk-toggleable__label-arrow:before {color: black;}#sk-container-id-1 div.sk-toggleable__content {max-height: 0;max-width: 0;overflow: hidden;text-align: left;background-color: #f0f8ff;}#sk-container-id-1 div.sk-toggleable__content pre {margin: 0.2em;color: black;border-radius: 0.25em;background-color: #f0f8ff;}#sk-container-id-1 input.sk-toggleable__control:checked~div.sk-toggleable__content {max-height: 200px;max-width: 100%;overflow: auto;}#sk-container-id-1 input.sk-toggleable__control:checked~label.sk-toggleable__label-arrow:before {content: \"▾\";}#sk-container-id-1 div.sk-estimator input.sk-toggleable__control:checked~label.sk-toggleable__label {background-color: #d4ebff;}#sk-container-id-1 div.sk-label input.sk-toggleable__control:checked~label.sk-toggleable__label {background-color: #d4ebff;}#sk-container-id-1 input.sk-hidden--visually {border: 0;clip: rect(1px 1px 1px 1px);clip: rect(1px, 1px, 1px, 1px);height: 1px;margin: -1px;overflow: hidden;padding: 0;position: absolute;width: 1px;}#sk-container-id-1 div.sk-estimator {font-family: monospace;background-color: #f0f8ff;border: 1px dotted black;border-radius: 0.25em;box-sizing: border-box;margin-bottom: 0.5em;}#sk-container-id-1 div.sk-estimator:hover {background-color: #d4ebff;}#sk-container-id-1 div.sk-parallel-item::after {content: \"\";width: 100%;border-bottom: 1px solid gray;flex-grow: 1;}#sk-container-id-1 div.sk-label:hover label.sk-toggleable__label {background-color: #d4ebff;}#sk-container-id-1 div.sk-serial::before {content: \"\";position: absolute;border-left: 1px solid gray;box-sizing: border-box;top: 0;bottom: 0;left: 50%;z-index: 0;}#sk-container-id-1 div.sk-serial {display: flex;flex-direction: column;align-items: center;background-color: white;padding-right: 0.2em;padding-left: 0.2em;position: relative;}#sk-container-id-1 div.sk-item {position: relative;z-index: 1;}#sk-container-id-1 div.sk-parallel {display: flex;align-items: stretch;justify-content: center;background-color: white;position: relative;}#sk-container-id-1 div.sk-item::before, #sk-container-id-1 div.sk-parallel-item::before {content: \"\";position: absolute;border-left: 1px solid gray;box-sizing: border-box;top: 0;bottom: 0;left: 50%;z-index: -1;}#sk-container-id-1 div.sk-parallel-item {display: flex;flex-direction: column;z-index: 1;position: relative;background-color: white;}#sk-container-id-1 div.sk-parallel-item:first-child::after {align-self: flex-end;width: 50%;}#sk-container-id-1 div.sk-parallel-item:last-child::after {align-self: flex-start;width: 50%;}#sk-container-id-1 div.sk-parallel-item:only-child::after {width: 0;}#sk-container-id-1 div.sk-dashed-wrapped {border: 1px dashed gray;margin: 0 0.4em 0.5em 0.4em;box-sizing: border-box;padding-bottom: 0.4em;background-color: white;}#sk-container-id-1 div.sk-label label {font-family: monospace;font-weight: bold;display: inline-block;line-height: 1.2em;}#sk-container-id-1 div.sk-label-container {text-align: center;}#sk-container-id-1 div.sk-container {/* jupyter's `normalize.less` sets `[hidden] { display: none; }` but bootstrap.min.css set `[hidden] { display: none !important; }` so we also need the `!important` here to be able to override the default hidden behavior on the sphinx rendered scikit-learn.org. See: https://github.com/scikit-learn/scikit-learn/issues/21755 */display: inline-block !important;position: relative;}#sk-container-id-1 div.sk-text-repr-fallback {display: none;}</style><div id=\"sk-container-id-1\" class=\"sk-top-container\"><div class=\"sk-text-repr-fallback\"><pre>DecisionTreeClassifier()</pre><b>In a Jupyter environment, please rerun this cell to show the HTML representation or trust the notebook. <br />On GitHub, the HTML representation is unable to render, please try loading this page with nbviewer.org.</b></div><div class=\"sk-container\" hidden><div class=\"sk-item\"><div class=\"sk-estimator sk-toggleable\"><input class=\"sk-toggleable__control sk-hidden--visually\" id=\"sk-estimator-id-1\" type=\"checkbox\" checked><label for=\"sk-estimator-id-1\" class=\"sk-toggleable__label sk-toggleable__label-arrow\">DecisionTreeClassifier</label><div class=\"sk-toggleable__content\"><pre>DecisionTreeClassifier()</pre></div></div></div></div></div>"
      ],
      "text/plain": [
       "DecisionTreeClassifier()"
      ]
     },
     "execution_count": 15,
     "metadata": {},
     "output_type": "execute_result"
    }
   ],
   "source": [
    "%%time\n",
    "dt.fit(X_train, y_train)"
   ]
  },
  {
   "cell_type": "code",
   "execution_count": null,
   "id": "7ed6d5b3-d090-4eaa-a8be-022f8a797f1e",
   "metadata": {},
   "outputs": [
    {
     "name": "stderr",
     "output_type": "stream",
     "text": [
      "\n",
      "KeyboardInterrupt\n",
      "\n"
     ]
    }
   ],
   "source": [
    "%%time\n",
    "plt.figure(figsize=(20, 8), dpi=300)\n",
    "plot_tree(dt, feature_names=attributes, filled=True)\n",
    "plt.savefig('Decision tree VAL.png')\n",
    "plt.show()"
   ]
  },
  {
   "cell_type": "code",
   "execution_count": null,
   "id": "8b4e418a-50fb-4b08-9e71-206bca02df11",
   "metadata": {},
   "outputs": [],
   "source": [
    "from sklearn.metrics import (\n",
    "    accuracy_score,\n",
    "    f1_score,\n",
    "    classification_report,\n",
    "    confusion_matrix,\n",
    "    roc_auc_score,\n",
    ")"
   ]
  },
  {
   "cell_type": "code",
   "execution_count": null,
   "id": "3debcebb-a65f-480a-80a7-3d58a1687cae",
   "metadata": {},
   "outputs": [],
   "source": [
    "y_train_pred = dt.predict(X_train)\n",
    "y_test_pred = dt.predict(X_test)"
   ]
  },
  {
   "cell_type": "code",
   "execution_count": null,
   "id": "6e18916e-2101-4f5d-ba77-c8d3fbd8a984",
   "metadata": {},
   "outputs": [],
   "source": [
    "print('Train Accuracy %s' % accuracy_score(y_train, y_train_pred))\n",
    "print('Train F1-score %s' % f1_score(y_train, y_train_pred, average=None))\n",
    "print()\n",
    "\n",
    "print('Test Accuracy %s' % accuracy_score(y_test, y_test_pred))\n",
    "print('Test F1-score %s' % f1_score(y_test, y_test_pred, average=None))"
   ]
  },
  {
   "cell_type": "code",
   "execution_count": null,
   "id": "5b8b42b8-cf98-45d8-b092-195b400507bb",
   "metadata": {},
   "outputs": [],
   "source": [
    "print(classification_report(y_test, y_test_pred))"
   ]
  },
  {
   "cell_type": "code",
   "execution_count": null,
   "id": "5353f4ba-fb54-489e-8cae-8ee3cfa8f909",
   "metadata": {},
   "outputs": [],
   "source": [
    "cf = confusion_matrix(y_test, y_test_pred)\n",
    "plt.figure(figsize=(10, 8))\n",
    "sns.heatmap(cf, annot=True, cmap=\"Greens\", fmt='d')\n",
    "plt.xlabel(\"True\")\n",
    "plt.ylabel(\"Predicted\")\n",
    "plt.show()"
   ]
  },
  {
   "cell_type": "markdown",
   "id": "4cbb777e-6bee-45b9-baad-5be8f9b9e137",
   "metadata": {},
   "source": [
    "Feature Importance"
   ]
  },
  {
   "cell_type": "code",
   "execution_count": null,
   "id": "4304f44c-08dc-4d85-8175-df39ea6ecdfa",
   "metadata": {},
   "outputs": [],
   "source": [
    "zipped = zip(attributes, dt.feature_importances_)\n",
    "zipped = sorted(zipped, key=lambda x: x[1], reverse=True)\n",
    "for col, imp in zipped:\n",
    "    print(col, imp)"
   ]
  },
  {
   "cell_type": "code",
   "execution_count": null,
   "id": "dffa36e7-8016-4d69-b73a-40edcf788d5d",
   "metadata": {},
   "outputs": [],
   "source": [
    "dt.feature_importances_"
   ]
  },
  {
   "cell_type": "code",
   "execution_count": null,
   "id": "099bae37-3cb5-4387-bb81-4e77104774a0",
   "metadata": {
    "tags": []
   },
   "outputs": [],
   "source": [
    "dt.get_params()"
   ]
  },
  {
   "cell_type": "code",
   "execution_count": null,
   "id": "5fa4617c-4a46-483c-8c2d-ac7b40edc171",
   "metadata": {
    "tags": []
   },
   "outputs": [],
   "source": [
    "y_test_pred"
   ]
  },
  {
   "cell_type": "code",
   "execution_count": null,
   "id": "569ebc9d-6403-4f0b-9a0d-d9d6564c1811",
   "metadata": {
    "tags": []
   },
   "outputs": [],
   "source": [
    "y_test"
   ]
  },
  {
   "cell_type": "code",
   "execution_count": null,
   "id": "1ba9595c-a6a2-47ce-93ea-7d7fde03ddc2",
   "metadata": {
    "tags": []
   },
   "outputs": [],
   "source": [
    "dt.predict_proba(X_test)"
   ]
  },
  {
   "cell_type": "code",
   "execution_count": null,
   "id": "a08121c7-c5a4-401c-9775-20c94660721e",
   "metadata": {
    "tags": []
   },
   "outputs": [],
   "source": [
    "accuracy_score(y_test,y_test_pred)"
   ]
  },
  {
   "cell_type": "code",
   "execution_count": null,
   "id": "70628420-43dd-4844-9909-c1a9d0a56c06",
   "metadata": {
    "tags": []
   },
   "outputs": [],
   "source": [
    "from sklearn.metrics import precision_score\n",
    "precision_score(y_test,y_test_pred, average='micro')"
   ]
  },
  {
   "cell_type": "code",
   "execution_count": null,
   "id": "a955c51a-df82-481c-a285-bbb47cbf06fd",
   "metadata": {
    "tags": []
   },
   "outputs": [],
   "source": [
    "precision_score(y_test,y_test_pred, average='macro')"
   ]
  },
  {
   "cell_type": "code",
   "execution_count": null,
   "id": "9c104df5-857a-4e21-882b-77979cc4a1d0",
   "metadata": {
    "tags": []
   },
   "outputs": [],
   "source": [
    "attributes"
   ]
  },
  {
   "cell_type": "code",
   "execution_count": null,
   "id": "6166eb79-4b78-4239-9048-ed7e2a20b78b",
   "metadata": {
    "tags": []
   },
   "outputs": [],
   "source": [
    "X"
   ]
  },
  {
   "cell_type": "code",
   "execution_count": null,
   "id": "3e36d631-f444-44ec-9452-ba76c5e35e11",
   "metadata": {
    "tags": []
   },
   "outputs": [],
   "source": [
    "feature_importance = pd.DataFrame(dt.feature_importances_, index = attributes).sort_values(0, ascending=False)\n",
    "feature_importance"
   ]
  },
  {
   "cell_type": "code",
   "execution_count": null,
   "id": "a447a332-5a64-4b08-ad02-945229ff9102",
   "metadata": {
    "tags": []
   },
   "outputs": [],
   "source": [
    "feature_importance.plot(kind='bar', color='green')"
   ]
  },
  {
   "cell_type": "code",
   "execution_count": null,
   "id": "c5d114fe-58f6-4624-a74e-bad4824d4fc1",
   "metadata": {},
   "outputs": [],
   "source": []
  },
  {
   "cell_type": "code",
   "execution_count": null,
   "id": "02169d88-2766-4ce7-b5f9-7e4132b0d49b",
   "metadata": {},
   "outputs": [],
   "source": []
  },
  {
   "cell_type": "markdown",
   "id": "4122688e-d47a-4a19-acc8-b6b6bef2f4f3",
   "metadata": {},
   "source": [
    "#### Decision Tree hyperparameters\n",
    "max_depth : int, default=None <br>\n",
    "    The maximum depth of the tree. If None, then nodes are expanded until\n",
    "    all leaves are pure or until all leaves contain less than\n",
    "    min_samples_split samples.\n",
    "\n",
    "min_samples_split : int or float, default=2 <br>\n",
    "    The minimum number of samples required to split an internal node:\n",
    "\n",
    "    - If int, then consider `min_samples_split` as the minimum number.\n",
    "    - If float, then `min_samples_split` is a fraction and\n",
    "      `ceil(min_samples_split * n_samples)` are the minimum\n",
    "      number of samples for each split.\n",
    "\n",
    "min_samples_leaf : int or float, default=1 <br>\n",
    "    The minimum number of samples required to be at a leaf node.\n",
    "    A split point at any depth will only be considered if it leaves at\n",
    "    least ``min_samples_leaf`` training samples in each of the left and\n",
    "    right branches.  This may have the effect of smoothing the model,\n",
    "    especially in regression.\n",
    "\n",
    "    - If int, then consider `min_samples_leaf` as the minimum number.\n",
    "    - If float, then `min_samples_leaf` is a fraction and\n",
    "      `ceil(min_samples_leaf * n_samples)` are the minimum\n",
    "      number of samples for each node."
   ]
  },
  {
   "cell_type": "code",
   "execution_count": null,
   "id": "77d1928e-8a7d-4fd7-a11a-2e77d6f94a5e",
   "metadata": {},
   "outputs": [],
   "source": [
    "from sklearn.model_selection import cross_val_score"
   ]
  },
  {
   "cell_type": "code",
   "execution_count": null,
   "id": "c80fbf49-aa48-4e5d-b40c-babf9ea040ec",
   "metadata": {},
   "outputs": [],
   "source": [
    "max_depths = [None] + list(np.arange(2, 20))\n",
    "avg_scores = list()\n",
    "std_scores = list()\n",
    "\n",
    "for max_depth in max_depths:\n",
    "    dt = DecisionTreeClassifier(max_depth=max_depth)\n",
    "    scores = cross_val_score(dt, X_train, y_train, cv=5)\n",
    "    avg_scores.append(np.mean(scores))\n",
    "    std_scores.append(np.std(scores))\n",
    "\n",
    "plt.errorbar(range(len(max_depths)), y=avg_scores, yerr=std_scores, marker='o')\n",
    "plt.xticks(range(len(max_depths)), max_depths)\n",
    "plt.xlabel(\"max_depths\")\n",
    "plt.ylabel(\"accuracy\")\n",
    "plt.show()"
   ]
  },
  {
   "cell_type": "code",
   "execution_count": null,
   "id": "9a581855-79c5-4185-a63a-54553c0af2ad",
   "metadata": {},
   "outputs": [],
   "source": [
    "min_samples_splits = [0.002, 0.01, 0.05, 0.1, 0.2]\n",
    "avg_scores = list()\n",
    "std_scores = list()\n",
    "\n",
    "for min_samples_split in min_samples_splits:\n",
    "    dt = DecisionTreeClassifier(min_samples_split=min_samples_split)\n",
    "    scores = cross_val_score(dt, X_train, y_train, cv=5)\n",
    "    avg_scores.append(np.mean(scores))\n",
    "    std_scores.append(np.std(scores))\n",
    "\n",
    "plt.errorbar(range(len(min_samples_splits)), y=avg_scores, yerr=std_scores, marker='o')\n",
    "plt.xticks(range(len(min_samples_splits)), min_samples_splits)\n",
    "plt.xlabel(\"min_samples_split\")\n",
    "plt.ylabel(\"accuracy\")\n",
    "plt.show()"
   ]
  },
  {
   "cell_type": "code",
   "execution_count": null,
   "id": "96932626-8a4b-4493-a6a7-0ce38ea930b4",
   "metadata": {},
   "outputs": [],
   "source": [
    "min_samples_leafs = [1, 5, 10, 20, 30, 50, 100]\n",
    "avg_scores = list()\n",
    "std_scores = list()\n",
    "\n",
    "for min_samples_leaf in min_samples_leafs:\n",
    "    dt = DecisionTreeClassifier(min_samples_leaf=min_samples_leaf)\n",
    "    scores = cross_val_score(dt, X_train, y_train, cv=5)\n",
    "    avg_scores.append(np.mean(scores))\n",
    "    std_scores.append(np.std(scores))\n",
    "\n",
    "plt.errorbar(range(len(min_samples_leafs)), y=avg_scores, yerr=std_scores, marker='o')\n",
    "plt.xticks(range(len(min_samples_leafs)), min_samples_leafs)\n",
    "plt.xlabel(\"min_samples_leaf\")\n",
    "plt.ylabel(\"accuracy\")\n",
    "plt.show()"
   ]
  },
  {
   "cell_type": "markdown",
   "id": "a1ea40fa-dbf3-4a6b-baed-717338faee57",
   "metadata": {
    "tags": []
   },
   "source": [
    "### Randomized Search"
   ]
  },
  {
   "cell_type": "code",
   "execution_count": null,
   "id": "0a86df6d-c539-456c-8d38-07159ee8f71c",
   "metadata": {},
   "outputs": [],
   "source": [
    "from sklearn.model_selection import RandomizedSearchCV\n",
    "from sklearn.model_selection import RepeatedStratifiedKFold"
   ]
  },
  {
   "cell_type": "markdown",
   "id": "9afaf7f7-f84c-4318-afb5-7d105938d36e",
   "metadata": {
    "tags": []
   },
   "source": [
    "%%time\n",
    "param_list = {\n",
    "    'max_depth': [None] + list(np.arange(2, 20)),\n",
    "    'min_samples_split': [2, 5, 10, 20, 30, 50, 100],\n",
    "    'min_samples_leaf': [1, 5, 10, 20, 30, 50, 100],\n",
    "    'criterion': ['gini', 'entropy']\n",
    "}\n",
    "\n",
    "clf = DecisionTreeClassifier(criterion='gini', max_depth=None, min_samples_split=2, min_samples_leaf=1)\n",
    "\n",
    "random_search = RandomizedSearchCV(\n",
    "    DecisionTreeClassifier(),\n",
    "    param_distributions=param_list,\n",
    "    cv=RepeatedStratifiedKFold(random_state=0),\n",
    "    n_jobs=-1,\n",
    "    refit=True,\n",
    "    n_iter=200,\n",
    "    #verbose=2\n",
    ")\n",
    "\n",
    "random_search.fit(X_train, y_train)\n",
    "clf = random_search.best_estimator_"
   ]
  },
  {
   "cell_type": "markdown",
   "id": "99853a5e-9ed3-47b1-8a2d-c05410bb033b",
   "metadata": {},
   "source": [
    "print(random_search.best_params_, random_search.best_score_)"
   ]
  },
  {
   "cell_type": "markdown",
   "id": "76b371f8-0d93-4149-88c5-8be2e181af1b",
   "metadata": {
    "tags": []
   },
   "source": [
    "y_test_pred = clf.predict(X_test)\n",
    "print(\"Accuracy:\", accuracy_score(y_test, y_test_pred))"
   ]
  },
  {
   "cell_type": "markdown",
   "id": "1a3c9623-5dec-4254-9697-a5e5222f9eab",
   "metadata": {},
   "source": [
    "clf.score(X_test, y_test)"
   ]
  },
  {
   "cell_type": "markdown",
   "id": "acd7f890-f930-4527-9034-2030947387ce",
   "metadata": {},
   "source": [
    "print('Train Accuracy %s' % accuracy_score(y_train, y_train_pred))\n",
    "print('Train F1-score %s' % f1_score(y_train, y_train_pred, average=None))\n",
    "print()\n",
    "\n",
    "print('Test Accuracy %s' % accuracy_score(y_test, y_test_pred))\n",
    "print('Test F1-score %s' % f1_score(y_test, y_test_pred, average=None))"
   ]
  },
  {
   "cell_type": "markdown",
   "id": "b416bf0a-8cdd-4881-be63-7018d5df6621",
   "metadata": {},
   "source": [
    "print(classification_report(y_test, y_test_pred))"
   ]
  },
  {
   "cell_type": "markdown",
   "id": "a4829b1d-ec43-4c77-ab20-5c82d2d0af1e",
   "metadata": {},
   "source": [
    "results = pd.DataFrame(random_search.cv_results_)"
   ]
  },
  {
   "cell_type": "markdown",
   "id": "0fda2138-e512-480b-a6b5-61be4a2094d4",
   "metadata": {},
   "source": [
    "sns.lineplot(data=results, x=\"param_max_depth\", y=\"mean_test_score\")"
   ]
  },
  {
   "cell_type": "markdown",
   "id": "8c11adb3-5871-456e-846e-fe0c681af256",
   "metadata": {},
   "source": [
    "sns.lineplot(data=results, x=\"param_min_samples_leaf\", y=\"mean_test_score\")"
   ]
  },
  {
   "cell_type": "markdown",
   "id": "260cc6ff-d1e2-4c59-8984-bc63df2a7849",
   "metadata": {},
   "source": [
    "zipped = zip(attributes, clf.feature_importances_)\n",
    "zipped = sorted(zipped, key=lambda x: x[1], reverse=True)\n",
    "for col, imp in zipped:\n",
    "    print(col, imp)"
   ]
  },
  {
   "cell_type": "markdown",
   "id": "8c1fa589-b002-407e-9ec5-72009b7dda3b",
   "metadata": {
    "tags": []
   },
   "source": [
    "plt.figure(figsize=(20, 4), dpi=300)\n",
    "plot_tree(clf, feature_names=attributes, filled=True)\n",
    "plt.show()"
   ]
  },
  {
   "cell_type": "markdown",
   "id": "3f4f09e1-4e37-45f7-b734-6d053f78ab75",
   "metadata": {},
   "source": [
    "#### ccp_alphas \n",
    "Minimal cost complexity pruning recursively finds the node with the “weakest link”. The weakest link is characterized by an effective alpha, where the nodes with the smallest effective alpha are pruned first. <br>\n",
    "Sklearn decision tree offers a function that returns the effective alphas and the corresponding total leaf impurities at each step of the pruning process. As alpha increases, more of the tree is pruned, which increases the total impurity of its leaves."
   ]
  },
  {
   "cell_type": "code",
   "execution_count": null,
   "id": "4a0e55ec-5d61-46ef-8162-29563108523d",
   "metadata": {},
   "outputs": [],
   "source": [
    "path = dt.cost_complexity_pruning_path(X_train, y_train)\n",
    "ccp_alphas, impurities = path.ccp_alphas, path.impurities"
   ]
  },
  {
   "cell_type": "code",
   "execution_count": null,
   "id": "5b6989b3-fa7b-4b57-ae06-e70e88de5ea9",
   "metadata": {},
   "outputs": [],
   "source": [
    "for alpha, imp in zip(ccp_alphas, impurities):\n",
    "    print(alpha, imp)"
   ]
  },
  {
   "cell_type": "code",
   "execution_count": null,
   "id": "956c940d-276d-42b5-b91b-898f6c54c116",
   "metadata": {},
   "outputs": [],
   "source": [
    "fig, ax = plt.subplots()\n",
    "ax.plot(ccp_alphas[:-1], impurities[:-1], marker=\"o\", drawstyle=\"steps-post\")\n",
    "ax.set_xlabel(\"effective alpha\")\n",
    "ax.set_ylabel(\"total impurity of leaves\")\n",
    "ax.set_title(\"Total Impurity vs effective alpha for training set\")"
   ]
  },
  {
   "cell_type": "code",
   "execution_count": null,
   "id": "3ce33310-992f-486f-ad47-a08deb905edb",
   "metadata": {},
   "outputs": [],
   "source": [
    "dt.best_params_"
   ]
  },
  {
   "cell_type": "code",
   "execution_count": null,
   "id": "8f9f3304-e51a-4e0a-b075-d0f3595e8b10",
   "metadata": {},
   "outputs": [],
   "source": [
    "clfs = []\n",
    "for ccp_alpha in ccp_alphas:\n",
    "    clf = DecisionTreeClassifier(random_state=0, ccp_alpha=ccp_alpha, **random_search.best_params_)\n",
    "    clf.fit(X_train, y_train)\n",
    "    clfs.append(clf)\n",
    "print(\n",
    "    \"Number of nodes in the last tree is: {} with ccp_alpha: {}\".format(\n",
    "        clfs[-1].tree_.node_count, ccp_alphas[-1]\n",
    "    )\n",
    ")"
   ]
  },
  {
   "cell_type": "code",
   "execution_count": null,
   "id": "89ad95bf-b31b-45ae-9c26-55bbf2299655",
   "metadata": {},
   "outputs": [],
   "source": [
    "clfs = clfs[:-1]\n",
    "ccp_alphas = ccp_alphas[:-1]\n",
    "\n",
    "node_counts = [clf.tree_.node_count for clf in clfs]\n",
    "depth = [clf.tree_.max_depth for clf in clfs]\n",
    "fig, ax = plt.subplots(2, 1)\n",
    "ax[0].plot(ccp_alphas, node_counts, marker=\"o\", drawstyle=\"steps-post\")\n",
    "ax[0].set_xlabel(\"alpha\")\n",
    "ax[0].set_ylabel(\"number of nodes\")\n",
    "ax[0].set_title(\"Number of nodes vs alpha\")\n",
    "ax[1].plot(ccp_alphas, depth, marker=\"o\", drawstyle=\"steps-post\")\n",
    "ax[1].set_xlabel(\"alpha\")\n",
    "ax[1].set_ylabel(\"depth of tree\")\n",
    "ax[1].set_title(\"Depth vs alpha\")\n",
    "fig.tight_layout()"
   ]
  },
  {
   "cell_type": "code",
   "execution_count": null,
   "id": "d040bc17-4262-44b6-baa3-6e9e240c5be2",
   "metadata": {},
   "outputs": [],
   "source": [
    "train_scores = [clf.score(X_train, y_train) for clf in clfs]\n",
    "test_scores = [clf.score(X_test, y_test) for clf in clfs]\n",
    "\n",
    "fig, ax = plt.subplots()\n",
    "ax.set_xlabel(\"alpha\")\n",
    "ax.set_ylabel(\"accuracy\")\n",
    "ax.set_title(\"Accuracy vs alpha for training and testing sets\")\n",
    "ax.plot(ccp_alphas, train_scores, marker=\"o\", label=\"train\", drawstyle=\"steps-post\")\n",
    "ax.plot(ccp_alphas, test_scores, marker=\"o\", label=\"test\", drawstyle=\"steps-post\")\n",
    "ax.legend()\n",
    "plt.show()"
   ]
  },
  {
   "cell_type": "code",
   "execution_count": null,
   "id": "07baeaf6-821e-450d-ac6b-3cc9afa0fdc7",
   "metadata": {},
   "outputs": [],
   "source": [
    "dtp = DecisionTreeClassifier(random_state=0, ccp_alpha=0.006, **random_search.best_params_)\n",
    "dtp.fit(X_train, y_train)"
   ]
  },
  {
   "cell_type": "code",
   "execution_count": null,
   "id": "255a01c5-6369-4a56-9f86-b6defdbcd450",
   "metadata": {},
   "outputs": [],
   "source": [
    "y_test_pred = dtp.predict(X_test)"
   ]
  },
  {
   "cell_type": "code",
   "execution_count": null,
   "id": "98e318f2-3eb3-4e47-8ff6-77a17477c4ae",
   "metadata": {},
   "outputs": [],
   "source": [
    "print('Train Accuracy %s' % accuracy_score(y_train, y_train_pred))\n",
    "print('Train F1-score %s' % f1_score(y_train, y_train_pred, average=None))\n",
    "print()\n",
    "\n",
    "print('Test Accuracy %s' % accuracy_score(y_test, y_test_pred))\n",
    "print('Test F1-score %s' % f1_score(y_test, y_test_pred, average=None))"
   ]
  },
  {
   "cell_type": "code",
   "execution_count": null,
   "id": "da7050de-9643-4b03-8fd1-09e1130d4f65",
   "metadata": {},
   "outputs": [],
   "source": [
    "y_test_pred = dtp.predict(X_test)\n",
    "print(\"Accuracy:\", accuracy_score(y_test, y_test_pred))"
   ]
  },
  {
   "cell_type": "code",
   "execution_count": null,
   "id": "acf7b787-a4c7-4835-b390-55c344e43f12",
   "metadata": {},
   "outputs": [],
   "source": [
    "print(classification_report(y_test, y_test_pred))"
   ]
  },
  {
   "cell_type": "code",
   "execution_count": null,
   "id": "609ca8b3-6f60-4f44-9ae5-244ee1461883",
   "metadata": {},
   "outputs": [],
   "source": [
    "plt.figure(figsize=(20, 4), dpi=300)\n",
    "plot_tree(dtp, feature_names=attributes, filled=True)\n",
    "plt.show()"
   ]
  },
  {
   "cell_type": "code",
   "execution_count": null,
   "id": "1181891a-c413-446d-ad5f-5924ac550ae2",
   "metadata": {},
   "outputs": [],
   "source": []
  },
  {
   "cell_type": "code",
   "execution_count": null,
   "id": "fa628691-163b-43a9-b30c-72cd5b5d5919",
   "metadata": {},
   "outputs": [],
   "source": [
    "from scikitplot.metrics import plot_roc\n",
    "from scikitplot.metrics import plot_precision_recall"
   ]
  },
  {
   "cell_type": "code",
   "execution_count": null,
   "id": "16030553-f3f9-4656-a74d-3d6f68c8acd1",
   "metadata": {},
   "outputs": [],
   "source": [
    "plot_roc(y_test, dtp.predict_proba(X_test))\n",
    "plt.show()"
   ]
  },
  {
   "cell_type": "code",
   "execution_count": null,
   "id": "99b3340b-b85b-4480-8f96-5223261815e2",
   "metadata": {
    "tags": []
   },
   "outputs": [],
   "source": [
    "plot_precision_recall(y_test, dtp.predict_proba(X_test))\n",
    "plt.show()"
   ]
  }
 ],
 "metadata": {
  "kernelspec": {
   "display_name": "Python 3 (ipykernel)",
   "language": "python",
   "name": "python3"
  },
  "language_info": {
   "codemirror_mode": {
    "name": "ipython",
    "version": 3
   },
   "file_extension": ".py",
   "mimetype": "text/x-python",
   "name": "python",
   "nbconvert_exporter": "python",
   "pygments_lexer": "ipython3",
   "version": "3.11.5"
  }
 },
 "nbformat": 4,
 "nbformat_minor": 5
}
